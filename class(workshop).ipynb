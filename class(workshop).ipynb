{
 "cells": [
  {
   "cell_type": "code",
   "execution_count": 19,
   "id": "48890544-7236-468e-9014-48552495570f",
   "metadata": {
    "tags": []
   },
   "outputs": [],
   "source": [
    "class Pet:\n",
    "    '''Class - домашние животные'''\n",
    "    name = ''\n",
    "    breed = ''\n",
    "    age = 0\n",
    "    gender = 'none'\n",
    "    \n",
    "    def __init__(self, name, breed):\n",
    "        self.name = name\n",
    "        self.breed = breed\n",
    "    \n",
    "        \n",
    "    def get_info(self):\n",
    "        print ('Name:',self.name)\n",
    "        print ('Breed:',self.breed)\n",
    "        print ('Age:',self.age)\n",
    "        print ('Gender:',self.gender)"
   ]
  },
  {
   "cell_type": "code",
   "execution_count": 20,
   "id": "7421b2ae-ecc0-412b-8582-92616549ba02",
   "metadata": {
    "tags": []
   },
   "outputs": [],
   "source": [
    "class Dog(Pet):\n",
    "    '''Class dogs'''\n",
    "    def __init__(self, name, age, gender):\n",
    "        super().__init__(name, 'dog')\n",
    "        self.age = age\n",
    "        self.gender = gender\n",
    "        \n",
    "    def gav(self):\n",
    "        print (f'Dog {self.name} barking!!!')    "
   ]
  },
  {
   "cell_type": "code",
   "execution_count": 21,
   "id": "7ae4d52c-6631-4687-82fd-64362660020e",
   "metadata": {
    "tags": []
   },
   "outputs": [],
   "source": [
    "buba = Dog('Buba', 8, 'male')"
   ]
  },
  {
   "cell_type": "code",
   "execution_count": 22,
   "id": "8f32cc80-85d0-435b-b883-17f869336425",
   "metadata": {
    "tags": []
   },
   "outputs": [
    {
     "name": "stdout",
     "output_type": "stream",
     "text": [
      "Name: Buba\n",
      "Breed: dog\n",
      "Age: 8\n",
      "Gender: male\n"
     ]
    }
   ],
   "source": [
    "buba.get_info()"
   ]
  },
  {
   "cell_type": "code",
   "execution_count": 23,
   "id": "a4096268-7ac8-4583-b176-4e252e74cda0",
   "metadata": {
    "tags": []
   },
   "outputs": [
    {
     "name": "stdout",
     "output_type": "stream",
     "text": [
      "Dog Buba barking!!!\n"
     ]
    }
   ],
   "source": [
    "buba.gav()"
   ]
  },
  {
   "cell_type": "code",
   "execution_count": 24,
   "id": "0f5f6adb-0559-4099-9d82-b3d0a7b3cc7c",
   "metadata": {
    "tags": []
   },
   "outputs": [],
   "source": [
    "class Cat(Pet):\n",
    "    '''Class cats'''\n",
    "    def __init__(self, name, age, gender):\n",
    "        super().__init__(name, 'cat')\n",
    "        self.age = age\n",
    "        self.gender = gender\n",
    "        \n",
    "    def myu(self):\n",
    "        print (f'Cat {self.name} meows!!!')    "
   ]
  },
  {
   "cell_type": "code",
   "execution_count": 25,
   "id": "7a67280d-9bb6-4dc8-88d3-ec32fe34b066",
   "metadata": {
    "tags": []
   },
   "outputs": [],
   "source": [
    "tom = Cat('Tom', 9, 'male')"
   ]
  },
  {
   "cell_type": "code",
   "execution_count": 26,
   "id": "c6279936-454a-49cf-8bd4-a630f3eccebe",
   "metadata": {
    "tags": []
   },
   "outputs": [
    {
     "name": "stdout",
     "output_type": "stream",
     "text": [
      "Name: Tom\n",
      "Breed: cat\n",
      "Age: 9\n",
      "Gender: male\n"
     ]
    }
   ],
   "source": [
    "tom.get_info()"
   ]
  },
  {
   "cell_type": "code",
   "execution_count": 27,
   "id": "daf86b5c-fb2e-44ba-95a6-f036d3ae169b",
   "metadata": {
    "tags": []
   },
   "outputs": [
    {
     "name": "stdout",
     "output_type": "stream",
     "text": [
      "Cat Tom meows!!!\n"
     ]
    }
   ],
   "source": [
    "tom.myu()"
   ]
  },
  {
   "cell_type": "code",
   "execution_count": 35,
   "id": "23afb357-22aa-4c73-83d0-c95216901125",
   "metadata": {
    "tags": []
   },
   "outputs": [],
   "source": [
    "mouse = Pet('Jerry','mouse')"
   ]
  },
  {
   "cell_type": "code",
   "execution_count": 36,
   "id": "bcae6792-7809-4ba1-9eb4-3f361d83ac56",
   "metadata": {
    "tags": []
   },
   "outputs": [
    {
     "name": "stdout",
     "output_type": "stream",
     "text": [
      "Name: Jerry\n",
      "Breed: mouse\n",
      "Age: 0\n",
      "Gender: none\n"
     ]
    }
   ],
   "source": [
    "mouse.get_info()"
   ]
  },
  {
   "cell_type": "code",
   "execution_count": 37,
   "id": "d28dbff0-fe49-4e7c-bf7e-031bd701b22d",
   "metadata": {
    "tags": []
   },
   "outputs": [
    {
     "ename": "AttributeError",
     "evalue": "'Pet' object has no attribute 'myu'",
     "output_type": "error",
     "traceback": [
      "\u001b[0;31m---------------------------------------------------------------------------\u001b[0m",
      "\u001b[0;31mAttributeError\u001b[0m                            Traceback (most recent call last)",
      "Cell \u001b[0;32mIn[37], line 1\u001b[0m\n\u001b[0;32m----> 1\u001b[0m \u001b[43mmouse\u001b[49m\u001b[38;5;241;43m.\u001b[39;49m\u001b[43mmyu\u001b[49m()\n",
      "\u001b[0;31mAttributeError\u001b[0m: 'Pet' object has no attribute 'myu'"
     ]
    }
   ],
   "source": [
    "mouse.myu()"
   ]
  }
 ],
 "metadata": {
  "kernelspec": {
   "display_name": "Python 3 (ipykernel)",
   "language": "python",
   "name": "python3"
  },
  "language_info": {
   "codemirror_mode": {
    "name": "ipython",
    "version": 3
   },
   "file_extension": ".py",
   "mimetype": "text/x-python",
   "name": "python",
   "nbconvert_exporter": "python",
   "pygments_lexer": "ipython3",
   "version": "3.10.12"
  }
 },
 "nbformat": 4,
 "nbformat_minor": 5
}
